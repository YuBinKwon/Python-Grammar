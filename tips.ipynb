{
 "cells": [
  {
   "cell_type": "markdown",
   "metadata": {},
   "source": [
    "### 이중 for문 `break` 및 `index()` 함수\n",
    "- flag의 True, False를 이용해 이중 for문 나가기\n",
    "\n",
    "- 2차원 리스트 인덱스 찾기"
   ]
  },
  {
   "cell_type": "code",
   "execution_count": 2,
   "metadata": {},
   "outputs": [],
   "source": [
    "m=[[1,2,3],[4,5,6]]"
   ]
  },
  {
   "cell_type": "code",
   "execution_count": 7,
   "metadata": {},
   "outputs": [
    {
     "name": "stdout",
     "output_type": "stream",
     "text": [
      "0 0\n"
     ]
    }
   ],
   "source": [
    "for i in range(1,7):\n",
    "    for j in range(2):\n",
    "        if i not in m[j][:]: #해당 행에 i가 있는지 검사\n",
    "            continue\n",
    "        else: #있으면\n",
    "            f_x=j\n",
    "            f_y=m[j][:].index(i) #j행에서 i가 있는 열의 인덱스 번호 찾기\n",
    "            \n",
    "            flag=True\n",
    "            break\n",
    "    if flag==True: #이중 for문 나가는 방법 (flag의 T,F를 이용)\n",
    "        break\n",
    "print(f_x,f_y)"
   ]
  },
  {
   "cell_type": "markdown",
   "metadata": {},
   "source": [
    "---\n",
    "### `copy` 함수\n",
    "`copy.deepcopy()` 를 이용하면 원본 리스트와 독립적으로 copy되어 copy된 리스트를 바꾸어도 원본 리스트는 바뀌지 않는다.\n",
    "\n",
    "재귀함수에서 `deepcopy()` 이용 시 원본이 바뀌지 않고, 재쉬시 사용되는 리스트만 바뀌기 때문에 여러 루트를 계산할 때 원본 리스트를 건드리지 않아 유용하다."
   ]
  },
  {
   "cell_type": "code",
   "execution_count": 4,
   "metadata": {},
   "outputs": [],
   "source": [
    "import copy\n",
    "m=copy.deepcopy(m)"
   ]
  },
  {
   "cell_type": "markdown",
   "metadata": {},
   "source": [
    "---\n",
    "### `sort()` 함수 및 `lambda`\n",
    " - `key=lambda` 를 이용한 정렬"
   ]
  },
  {
   "cell_type": "code",
   "execution_count": 13,
   "metadata": {},
   "outputs": [],
   "source": [
    "a=[[300,5],[2500,3],[1200,2]]"
   ]
  },
  {
   "cell_type": "code",
   "execution_count": 14,
   "metadata": {},
   "outputs": [
    {
     "name": "stdout",
     "output_type": "stream",
     "text": [
      "[[300, 5], [1200, 2], [2500, 3]]\n"
     ]
    }
   ],
   "source": [
    "a.sort() #0열에 대한 오름차순 정렬\n",
    "print(a)"
   ]
  },
  {
   "cell_type": "code",
   "execution_count": 15,
   "metadata": {},
   "outputs": [
    {
     "name": "stdout",
     "output_type": "stream",
     "text": [
      "[[2500, 3], [1200, 2], [300, 5]]\n"
     ]
    }
   ],
   "source": [
    "a.sort(reverse=True) #0열에 대한 내림차순 정렬\n",
    "print(a)"
   ]
  },
  {
   "cell_type": "code",
   "execution_count": 16,
   "metadata": {},
   "outputs": [
    {
     "name": "stdout",
     "output_type": "stream",
     "text": [
      "[[1200, 2], [2500, 3], [300, 5]]\n"
     ]
    }
   ],
   "source": [
    "a.sort(key=lambda x : x[1]) #1열에 대한 오름차순 정렬\n",
    "print(a)"
   ]
  },
  {
   "cell_type": "code",
   "execution_count": 17,
   "metadata": {},
   "outputs": [
    {
     "name": "stdout",
     "output_type": "stream",
     "text": [
      "[[300, 5], [2500, 3], [1200, 2]]\n"
     ]
    }
   ],
   "source": [
    "a.sort(key=lambda x : x[1], reverse=True) #1열에 대한 내림차순 정렬\n",
    "print(a)"
   ]
  },
  {
   "cell_type": "markdown",
   "metadata": {},
   "source": [
    "---\n",
    "###  `List` Comprehension"
   ]
  },
  {
   "cell_type": "code",
   "execution_count": 20,
   "metadata": {},
   "outputs": [
    {
     "name": "stdout",
     "output_type": "stream",
     "text": [
      "[0, 2, 4, 6, 8, 10, 12, 14, 16, 18]\n"
     ]
    }
   ],
   "source": [
    "# 짝수만 포함하는 리스트\n",
    "array=[i for i in range(20) if i%2==0]\n",
    "print(array)"
   ]
  },
  {
   "cell_type": "code",
   "execution_count": 21,
   "metadata": {},
   "outputs": [
    {
     "name": "stdout",
     "output_type": "stream",
     "text": [
      "[0, 1, 4, 9, 16, 25, 36, 49, 64, 81]\n"
     ]
    }
   ],
   "source": [
    "# 제곱값을 포함하는 리스트\n",
    "array=[i*i for i in range(10)]\n",
    "print(array)"
   ]
  },
  {
   "cell_type": "code",
   "execution_count": 22,
   "metadata": {},
   "outputs": [
    {
     "name": "stdout",
     "output_type": "stream",
     "text": [
      "[[0, 0, 0, 0], [0, 0, 0, 0], [0, 0, 0, 0]]\n"
     ]
    }
   ],
   "source": [
    "# n*m 2차원 리스트 초기화\n",
    "n=3\n",
    "m=4\n",
    "array=[[0]*m for _ in range(n)]\n",
    "print(array)"
   ]
  },
  {
   "cell_type": "code",
   "execution_count": 23,
   "metadata": {},
   "outputs": [
    {
     "name": "stdout",
     "output_type": "stream",
     "text": [
      "[1, 2, 5, 6, 7]\n"
     ]
    }
   ],
   "source": [
    "# a에서 set에 포함되지 않은 원소 리스트\n",
    "a=[1,2,3,4,5,6,7]\n",
    "set=[3,4]\n",
    "result=[i for i in a if i not in set]\n",
    "print(result)"
   ]
  },
  {
   "cell_type": "markdown",
   "metadata": {},
   "source": [
    "---\n",
    "### `sys` 라이브러리\n",
    "- 입력의 개수가 많은 경우 사용"
   ]
  },
  {
   "cell_type": "code",
   "execution_count": 24,
   "metadata": {},
   "outputs": [
    {
     "name": "stdout",
     "output_type": "stream",
     "text": [
      "\n"
     ]
    }
   ],
   "source": [
    "import sys\n",
    "data=sys.stdin.readline().rstrip()\n",
    "print(data)"
   ]
  },
  {
   "cell_type": "markdown",
   "metadata": {},
   "source": [
    "---\n",
    "### `collections` 라이브러리\n",
    "- `deque`를 사용해 큐 구현\n",
    "- `Counter`를 사용해 등장 횟수 카운트"
   ]
  },
  {
   "cell_type": "code",
   "execution_count": 27,
   "metadata": {},
   "outputs": [
    {
     "name": "stdout",
     "output_type": "stream",
     "text": [
      "1\n",
      "deque([2, 3, 4, 5])\n"
     ]
    }
   ],
   "source": [
    "from collections import deque\n",
    "q=deque([2,3,4])\n",
    "q.append(5)\n",
    "q.appendleft(1)\n",
    "x=q.popleft()\n",
    "\n",
    "print(x)\n",
    "print(q)"
   ]
  },
  {
   "cell_type": "code",
   "execution_count": 31,
   "metadata": {},
   "outputs": [
    {
     "name": "stdout",
     "output_type": "stream",
     "text": [
      "3\n",
      "2\n",
      "2\n"
     ]
    }
   ],
   "source": [
    "from collections import Counter\n",
    "c=Counter([1,2,2,5,8,3,2,9,6,4,8])\n",
    "print(c[2])\n",
    "print(c[8])\n",
    "\n",
    "co=Counter(['b','e','b'])\n",
    "print(co['b'])"
   ]
  },
  {
   "cell_type": "markdown",
   "metadata": {},
   "source": [
    "---\n",
    "### `math` 라이브러리"
   ]
  },
  {
   "cell_type": "code",
   "execution_count": 35,
   "metadata": {},
   "outputs": [
    {
     "name": "stdout",
     "output_type": "stream",
     "text": [
      "120\n",
      "3.0\n",
      "7\n",
      "3.141592653589793\n",
      "2.718281828459045\n"
     ]
    }
   ],
   "source": [
    "import math\n",
    "print(math.factorial(5)) #팩토리얼\n",
    "print(math.sqrt(9)) #제곱근\n",
    "print(math.gcd(21,14)) #최대 공약수\n",
    "print(math.pi)\n",
    "print(math.e)"
   ]
  },
  {
   "cell_type": "code",
   "execution_count": null,
   "metadata": {},
   "outputs": [],
   "source": []
  }
 ],
 "metadata": {
  "kernelspec": {
   "display_name": "Python 3",
   "language": "python",
   "name": "python3"
  },
  "language_info": {
   "codemirror_mode": {
    "name": "ipython",
    "version": 3
   },
   "file_extension": ".py",
   "mimetype": "text/x-python",
   "name": "python",
   "nbconvert_exporter": "python",
   "pygments_lexer": "ipython3",
   "version": "3.8.3"
  }
 },
 "nbformat": 4,
 "nbformat_minor": 4
}
